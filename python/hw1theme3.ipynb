{
 "cells": [
  {
   "metadata": {},
   "cell_type": "markdown",
   "source": "Задание 1",
   "id": "2103ec84d9bd8094"
  },
  {
   "metadata": {
    "ExecuteTime": {
     "end_time": "2025-10-13T11:23:57.412599Z",
     "start_time": "2025-10-13T11:23:53.838889Z"
    }
   },
   "cell_type": "code",
   "source": [
    "try:\n",
    "    a = float(input(\"Введите первое число: \"))\n",
    "    b = float(input(\"Введите второе число: \"))\n",
    "    result = a / b\n",
    "except ZeroDivisionError:\n",
    "    print(\"Ошибка: деление на ноль недопустимо.\")\n",
    "except ValueError:\n",
    "    print(\"Ошибка: нужно вводить числа, а не текст.\")\n",
    "else:\n",
    "    print(\"Результат:\", result)\n",
    "finally:\n",
    "    print(\"Готово.\")"
   ],
   "id": "a5611ac7bc257d4",
   "outputs": [
    {
     "name": "stdout",
     "output_type": "stream",
     "text": [
      "Результат: 0.5652173913043478\n",
      "Готово.\n"
     ]
    }
   ],
   "execution_count": 10
  },
  {
   "metadata": {},
   "cell_type": "markdown",
   "source": "Задание 2",
   "id": "155d57cec0a08c31"
  },
  {
   "metadata": {
    "ExecuteTime": {
     "end_time": "2025-10-13T11:22:31.732597Z",
     "start_time": "2025-10-13T11:22:22.817865Z"
    }
   },
   "cell_type": "code",
   "source": [
    "try:\n",
    "    a = float(input(\"Введите первое число: \"))\n",
    "    b = float(input(\"Введите второе число: \"))\n",
    "    print(\"Частное:\", a / b)\n",
    "except ZeroDivisionError:\n",
    "    print(\"Ошибка: на ноль делить нельзя.\")\n",
    "except ValueError:\n",
    "    print(\"Ошибка: введено нечисловое значение.\")\n",
    "except Exception as e:\n",
    "    print(\"Непредвиденная ошибка:\", type(e).__name__, e)\n",
    "else:\n",
    "    print(\"Успех!\")\n"
   ],
   "id": "973da39455eeb9bf",
   "outputs": [
    {
     "name": "stdout",
     "output_type": "stream",
     "text": [
      "Частное: 51.333333333333336\n",
      "Успех!\n"
     ]
    }
   ],
   "execution_count": 8
  },
  {
   "metadata": {},
   "cell_type": "markdown",
   "source": "Задание 3",
   "id": "3857793c0774cdb7"
  },
  {
   "metadata": {
    "ExecuteTime": {
     "end_time": "2025-10-13T11:33:11.598718Z",
     "start_time": "2025-10-13T11:33:08.114249Z"
    }
   },
   "cell_type": "code",
   "source": [
    "class EvenNumberError(Exception):\n",
    "    pass\n",
    "\n",
    "class NegativeNumberError(Exception):\n",
    "    pass\n",
    "\n",
    "def sum_integers_strict(nums: list[int]) -> int:\n",
    "    for x in nums:\n",
    "        if x < 0:\n",
    "            raise NegativeNumberError(f\"Обнаружено отрицательное число: {x}\")\n",
    "        if x % 2 == 0:\n",
    "            raise EvenNumberError(f\"Обнаружено чётное число: {x}\")\n",
    "    return sum(nums)\n",
    "\n",
    "if __name__ == \"__main__\":\n",
    "    try:\n",
    "        raw = input(\"Введите целые числа через пробел: \")\n",
    "        nums = [int(s) for s in raw.split()]\n",
    "        total = sum_integers_strict(nums)\n",
    "    except NegativeNumberError as e:\n",
    "        print(\"Ошибка (отрицательное):\", e)\n",
    "    except EvenNumberError as e:\n",
    "        print(\"Ошибка (чётное):\", e)\n",
    "    except ValueError:\n",
    "        print(\"Ошибка: ввод должен быть целыми числами.\")\n",
    "    else:\n",
    "        print(\"Сумма:\", total)"
   ],
   "id": "734844092a5804f9",
   "outputs": [
    {
     "name": "stdout",
     "output_type": "stream",
     "text": [
      "Сумма: 9\n"
     ]
    }
   ],
   "execution_count": 13
  },
  {
   "metadata": {},
   "cell_type": "markdown",
   "source": "Задание 4",
   "id": "991ca54bece62ffa"
  },
  {
   "metadata": {
    "ExecuteTime": {
     "end_time": "2025-10-13T12:24:36.507964Z",
     "start_time": "2025-10-13T12:24:27.786929Z"
    }
   },
   "cell_type": "code",
   "source": [
    "data = [\"alpha\", \"beta\", \"gamma\", \"delta\"]\n",
    "\n",
    "try:\n",
    "    idx = int(input(f\"Введите индекс от 0 до {len(data)-1}: \"))\n",
    "    print(\"Значение элемента:\", data[idx])\n",
    "except ValueError:\n",
    "    print(\"Ошибка: индекс должен быть целым числом.\")\n",
    "except IndexError:\n",
    "    print(\"Ошибка: индекс вне диапазона списка.\")"
   ],
   "id": "99221cba87e1e0",
   "outputs": [
    {
     "name": "stdout",
     "output_type": "stream",
     "text": [
      "Значение элемента: delta\n"
     ]
    }
   ],
   "execution_count": 1
  },
  {
   "metadata": {},
   "cell_type": "markdown",
   "source": "Задание 5",
   "id": "2f4dbf53a50984a2"
  },
  {
   "metadata": {
    "ExecuteTime": {
     "end_time": "2025-10-13T12:25:11.411086Z",
     "start_time": "2025-10-13T12:24:57.132270Z"
    }
   },
   "cell_type": "code",
   "source": [
    "try:\n",
    "    s = input(\"Введите число с плавающей точкой: \")\n",
    "    x = float(s)\n",
    "except ValueError:\n",
    "    print(\"Ошибка: строку нельзя преобразовать в число.\")\n",
    "else:\n",
    "    print(\"Успех! Число:\", x)"
   ],
   "id": "48ab0e6938cfecb0",
   "outputs": [
    {
     "name": "stdout",
     "output_type": "stream",
     "text": [
      "Успех! Число: 3.33\n"
     ]
    }
   ],
   "execution_count": 2
  },
  {
   "metadata": {},
   "cell_type": "markdown",
   "source": "Задание 6",
   "id": "56d706baba1b1f6d"
  },
  {
   "metadata": {
    "ExecuteTime": {
     "end_time": "2025-10-13T12:27:33.969409Z",
     "start_time": "2025-10-13T12:27:31.972614Z"
    }
   },
   "cell_type": "code",
   "source": [
    "try:\n",
    "    import math\n",
    "except ModuleNotFoundError:\n",
    "    print(\"Ошибка: не удалось импортировать модуль math.\")\n",
    "else:\n",
    "    try:\n",
    "        s = input(\"Введите неотрицательное число: \")\n",
    "        x = float(s)\n",
    "        if x < 0:\n",
    "            raise ValueError(\"Квадратный корень из отрицательного числа не определён в ℝ.\")\n",
    "        print(\"sqrt =\", math.sqrt(x))\n",
    "    except ValueError as e:\n",
    "        print(\"Ошибка:\", e)\n",
    "    except AttributeError:\n",
    "        print(\"Ошибка: в модуле math нет функции sqrt (неожиданно).\")"
   ],
   "id": "3a4002cda6450d2",
   "outputs": [
    {
     "name": "stdout",
     "output_type": "stream",
     "text": [
      "sqrt = 1.4142135623730951\n"
     ]
    }
   ],
   "execution_count": 7
  }
 ],
 "metadata": {},
 "nbformat": 4,
 "nbformat_minor": 5
}
