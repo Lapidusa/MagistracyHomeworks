{
 "cells": [
  {
   "metadata": {},
   "cell_type": "markdown",
   "source": "Задание 1 — копирование файла",
   "id": "d028ab1ae30345a3"
  },
  {
   "metadata": {},
   "cell_type": "code",
   "outputs": [],
   "execution_count": null,
   "source": [
    "from pathlib import Path\n",
    "import shutil\n",
    "\n",
    "src = Path(\"source.txt\")\n",
    "dst = Path(\"destination.txt\")\n",
    "\n",
    "try:\n",
    "    if not src.exists():\n",
    "        raise FileNotFoundError(f\"Нет файла: {src.resolve()}\")\n",
    "    shutil.copyfile(src, dst)\n",
    "    print(f\"OK: скопировано в {dst.resolve()}\")\n",
    "except Exception as e:\n",
    "    print(\"Ошибка:\", e)"
   ],
   "id": "52721a351736eee0"
  },
  {
   "metadata": {},
   "cell_type": "markdown",
   "source": "Задание 2 — подсчёт стоимости заказа из файла",
   "id": "86196e3e8c99dd0e"
  },
  {
   "cell_type": "code",
   "id": "initial_id",
   "metadata": {
    "collapsed": true,
    "ExecuteTime": {
     "end_time": "2025-10-13T12:40:16.850629Z",
     "start_time": "2025-10-13T12:40:16.841826Z"
    }
   },
   "source": [
    "from decimal import Decimal, InvalidOperation\n",
    "\n",
    "def parse_line(line: str):\n",
    "    parts = [p.strip() for p in line.strip().split(\",\")] if \",\" in line else line.split()\n",
    "    if len(parts) < 3:\n",
    "        raise ValueError(f\"Неверный формат строки: {line!r}\")\n",
    "    name = parts[0]\n",
    "    qty_str = parts[1]\n",
    "    price_str = parts[2]\n",
    "\n",
    "    price_str = price_str.replace(\",\", \".\")\n",
    "    try:\n",
    "        qty = int(qty_str)\n",
    "        if qty < 0:\n",
    "            raise ValueError(\"Количество не может быть отрицательным.\")\n",
    "    except ValueError:\n",
    "        raise ValueError(f\"Некорректное количество: {qty_str!r}\")\n",
    "\n",
    "    try:\n",
    "        price = Decimal(price_str)\n",
    "        if price < 0:\n",
    "            raise ValueError(\"Цена не может быть отрицательной.\")\n",
    "    except (InvalidOperation, ValueError):\n",
    "        raise ValueError(f\"Некорректная цена: {price_str!r}\")\n",
    "\n",
    "    return name, qty, price\n",
    "\n",
    "total = Decimal(\"0\")\n",
    "line_no = 0\n",
    "\n",
    "try:\n",
    "    with open(\"prices.txt\", \"r\", encoding=\"utf-8\") as f:\n",
    "        for line in f:\n",
    "            line_no += 1\n",
    "            if not line.strip():\n",
    "                continue\n",
    "            try:\n",
    "                name, qty, price = parse_line(line)\n",
    "                total += price * qty\n",
    "            except ValueError as e:\n",
    "                print(f\"Строка {line_no}: пропущена ({e})\")\n",
    "    print(\"Итоговая стоимость:\", f\"{total:.2f}\")\n",
    "except FileNotFoundError:\n",
    "    print(\"Ошибка: файл prices.txt не найден.\")"
   ],
   "outputs": [
    {
     "name": "stdout",
     "output_type": "stream",
     "text": [
      "Итоговая стоимость: 206.50\n"
     ]
    }
   ],
   "execution_count": 1
  },
  {
   "metadata": {},
   "cell_type": "markdown",
   "source": "Задание 3 — количество слов в файле",
   "id": "875d62fd1387021e"
  },
  {
   "metadata": {
    "ExecuteTime": {
     "end_time": "2025-10-13T12:44:13.396231Z",
     "start_time": "2025-10-13T12:44:13.390197Z"
    }
   },
   "cell_type": "code",
   "source": [
    "import re\n",
    "\n",
    "word_pattern = re.compile(r\"\\w+\", re.UNICODE)\n",
    "\n",
    "try:\n",
    "    with open(\"text_file.txt\", \"r\", encoding=\"utf-8\") as f:\n",
    "        text = f.read()\n",
    "    words = word_pattern.findall(text)\n",
    "    print(\"Количество слов:\", len(words))\n",
    "except FileNotFoundError:\n",
    "    print(\"Ошибка: файл text_file.txt не найден.\")"
   ],
   "id": "18fee23715b11ad7",
   "outputs": [
    {
     "name": "stdout",
     "output_type": "stream",
     "text": [
      "Количество слов: 7\n"
     ]
    }
   ],
   "execution_count": 3
  },
  {
   "metadata": {},
   "cell_type": "markdown",
   "source": "Задание 4. Копирование уникального содержимого одного файла в другой",
   "id": "2e9fe0d5e83693c5"
  },
  {
   "metadata": {
    "ExecuteTime": {
     "end_time": "2025-10-13T12:45:11.201645Z",
     "start_time": "2025-10-13T12:45:11.193636Z"
    }
   },
   "cell_type": "code",
   "source": [
    "from pathlib import Path\n",
    "\n",
    "inp = Path(\"input.txt\")\n",
    "out = Path(\"unique_output.txt\")\n",
    "\n",
    "try:\n",
    "    seen = set()\n",
    "    unique = []\n",
    "    with inp.open(\"r\", encoding=\"utf-8\") as f:\n",
    "        for line in f:\n",
    "            key = line.rstrip(\"\\n\")\n",
    "            if key not in seen:\n",
    "                seen.add(key)\n",
    "                unique.append(line)\n",
    "    with out.open(\"w\", encoding=\"utf-8\", newline=\"\") as f:\n",
    "        f.writelines(unique)\n",
    "    print(f\"OK: записано {len(unique)} уникальных строк в {out.resolve()}\")\n",
    "except FileNotFoundError:\n",
    "    print(\"Ошибка: файл input.txt не найден.\")\n",
    "except Exception as e:\n",
    "    print(\"Ошибка:\", e)"
   ],
   "id": "4c16b36a2a6989ee",
   "outputs": [
    {
     "name": "stdout",
     "output_type": "stream",
     "text": [
      "OK: записано 3 уникальных строк в E:\\study\\magistracy\\1sem\\magistracy_homeworks\\python\\hw2t4\\unique_output.txt\n"
     ]
    }
   ],
   "execution_count": 4
  }
 ],
 "metadata": {
  "kernelspec": {
   "display_name": "Python 3",
   "language": "python",
   "name": "python3"
  },
  "language_info": {
   "codemirror_mode": {
    "name": "ipython",
    "version": 2
   },
   "file_extension": ".py",
   "mimetype": "text/x-python",
   "name": "python",
   "nbconvert_exporter": "python",
   "pygments_lexer": "ipython2",
   "version": "2.7.6"
  }
 },
 "nbformat": 4,
 "nbformat_minor": 5
}
