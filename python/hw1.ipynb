{
 "cells": [
  {
   "cell_type": "code",
   "id": "initial_id",
   "metadata": {
    "collapsed": true,
    "ExecuteTime": {
     "end_time": "2025-09-03T20:58:16.039613Z",
     "start_time": "2025-09-03T20:58:16.035453Z"
    }
   },
   "source": [
    "year = 2019\n",
    "print(\"Високосный год\" if year % 4 == 0 else \"Обычный год\")"
   ],
   "outputs": [
    {
     "name": "stdout",
     "output_type": "stream",
     "text": [
      "Обычный год\n"
     ]
    }
   ],
   "execution_count": 10
  },
  {
   "metadata": {
    "ExecuteTime": {
     "end_time": "2025-09-04T15:17:38.074121Z",
     "start_time": "2025-09-04T15:17:38.069471Z"
    }
   },
   "cell_type": "code",
   "source": [
    "number = 123321\n",
    "num_str = str(number)\n",
    "\n",
    "left = sum(map(int, num_str[:3]))\n",
    "right = sum(map(int, num_str[3:]))\n",
    "\n",
    "print(\"Счастливый билет\" if left == right else \"Несчастливый билет\")"
   ],
   "id": "c850f2eb67d46727",
   "outputs": [
    {
     "name": "stdout",
     "output_type": "stream",
     "text": [
      "Счастливый билет\n"
     ]
    }
   ],
   "execution_count": 23
  },
  {
   "metadata": {
    "ExecuteTime": {
     "end_time": "2025-09-04T21:30:54.084028Z",
     "start_time": "2025-09-04T21:30:54.078498Z"
    }
   },
   "cell_type": "code",
   "source": [
    "class CountDown:\n",
    "  def __init__(self, start):\n",
    "    self.current = start\n",
    "\n",
    "  def __iter__(self):\n",
    "    return self\n",
    "\n",
    "  def __next__(self):\n",
    "    if self.current <= 0:\n",
    "      raise StopIteration\n",
    "    value = self.current\n",
    "    self.current -= 1\n",
    "    return value\n",
    "\n",
    "cd = CountDown(5)\n",
    "for num in cd:\n",
    "  print(num)"
   ],
   "id": "f54e9e55ceaece9d",
   "outputs": [
    {
     "name": "stdout",
     "output_type": "stream",
     "text": [
      "5\n",
      "4\n",
      "3\n",
      "2\n",
      "1\n"
     ]
    }
   ],
   "execution_count": 33
  },
  {
   "metadata": {
    "ExecuteTime": {
     "end_time": "2025-09-04T21:31:49.584384Z",
     "start_time": "2025-09-04T21:31:49.579632Z"
    }
   },
   "cell_type": "code",
   "source": [
    "def decorator(func):\n",
    "  def wrapper():\n",
    "    print(\"Перед вызовом\")\n",
    "    func()\n",
    "    print(\"После вызова\")\n",
    "  return wrapper\n",
    "\n",
    "@decorator\n",
    "def hello():\n",
    "  print(\"Привет\")\n",
    "\n",
    "hello()\n"
   ],
   "id": "2560bf25a9379148",
   "outputs": [
    {
     "name": "stdout",
     "output_type": "stream",
     "text": [
      "Перед вызовом\n",
      "Привет\n",
      "После вызова\n"
     ]
    }
   ],
   "execution_count": 35
  },
  {
   "metadata": {
    "ExecuteTime": {
     "end_time": "2025-09-04T21:45:02.933639Z",
     "start_time": "2025-09-04T21:45:02.928166Z"
    }
   },
   "cell_type": "code",
   "source": [
    "def decorator(func):\n",
    "  def wrapper():\n",
    "    print(\"start\")\n",
    "    func()\n",
    "    print('end')\n",
    "  return wrapper\n",
    "\n",
    "@decorator\n",
    "def hello():\n",
    "  print(\"hello\")\n",
    "hello()"
   ],
   "id": "4492823268a13c01",
   "outputs": [
    {
     "name": "stdout",
     "output_type": "stream",
     "text": [
      "start\n",
      "hello\n",
      "end\n"
     ]
    }
   ],
   "execution_count": 38
  },
  {
   "metadata": {
    "ExecuteTime": {
     "end_time": "2025-09-04T21:46:38.439295Z",
     "start_time": "2025-09-04T21:46:38.435128Z"
    }
   },
   "cell_type": "code",
   "source": [
    "def gen():\n",
    "  yield 1\n",
    "  yield 2\n",
    "  yield 3\n",
    "\n",
    "for x in gen():\n",
    "  print(x)"
   ],
   "id": "5c58d397b666702",
   "outputs": [
    {
     "name": "stdout",
     "output_type": "stream",
     "text": [
      "1\n",
      "2\n",
      "3\n"
     ]
    }
   ],
   "execution_count": 41
  },
  {
   "metadata": {
    "ExecuteTime": {
     "end_time": "2025-09-04T21:53:51.995883Z",
     "start_time": "2025-09-04T21:53:51.990957Z"
    }
   },
   "cell_type": "code",
   "source": [
    "nums = [10, 20, 30, 40, 50]\n",
    "it = nums.__iter__()\n",
    "print(it.__next__())\n",
    "print(it.__next__())\n",
    "print(it.__next__())\n",
    "print(it.__next__())\n",
    "print(it.__next__())"
   ],
   "id": "5a9ded7b22998a79",
   "outputs": [
    {
     "name": "stdout",
     "output_type": "stream",
     "text": [
      "10\n",
      "20\n",
      "30\n",
      "40\n",
      "50\n"
     ]
    }
   ],
   "execution_count": 50
  },
  {
   "metadata": {
    "ExecuteTime": {
     "end_time": "2025-09-04T22:00:33.731089Z",
     "start_time": "2025-09-04T22:00:33.724152Z"
    }
   },
   "cell_type": "code",
   "source": [
    "class MyIterator:\n",
    "  def __init__(self, data):\n",
    "    self.data = data\n",
    "    self.index = len(self.data) - 1\n",
    "  def __iter__(self):\n",
    "    return self\n",
    "  def __next__(self):\n",
    "    if self.index >= 0:\n",
    "      value = self.data[self.index]\n",
    "      self.index -= 1\n",
    "      return value\n",
    "    else:\n",
    "      raise StopIteration\n",
    "\n",
    "it = MyIterator([10, 20, 30, 40, 50])\n",
    "for x in it:\n",
    "  print(x)\n",
    "\n"
   ],
   "id": "c1d047831d8932a6",
   "outputs": [
    {
     "name": "stdout",
     "output_type": "stream",
     "text": [
      "50\n",
      "40\n",
      "30\n",
      "20\n",
      "10\n"
     ]
    }
   ],
   "execution_count": 59
  },
  {
   "metadata": {
    "ExecuteTime": {
     "end_time": "2025-09-05T20:26:07.285105Z",
     "start_time": "2025-09-05T20:26:07.274621Z"
    }
   },
   "cell_type": "code",
   "source": [
    "class Rectangle:\n",
    "    def __init__(self, width, height):\n",
    "        self._width = width\n",
    "        self._height = height\n",
    "\n",
    "    @property\n",
    "    def area(self):\n",
    "        return self._width * self._height\n",
    "\n",
    "rect = Rectangle(5, 10)\n",
    "print(rect.area)\n"
   ],
   "id": "290fc624901eab63",
   "outputs": [
    {
     "name": "stdout",
     "output_type": "stream",
     "text": [
      "50\n"
     ]
    }
   ],
   "execution_count": 1
  }
 ],
 "metadata": {
  "kernelspec": {
   "display_name": "Python 3",
   "language": "python",
   "name": "python3"
  },
  "language_info": {
   "codemirror_mode": {
    "name": "ipython",
    "version": 2
   },
   "file_extension": ".py",
   "mimetype": "text/x-python",
   "name": "python",
   "nbconvert_exporter": "python",
   "pygments_lexer": "ipython2",
   "version": "2.7.6"
  }
 },
 "nbformat": 4,
 "nbformat_minor": 5
}
