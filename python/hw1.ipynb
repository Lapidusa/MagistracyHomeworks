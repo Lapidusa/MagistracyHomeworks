{
 "cells": [
  {
   "cell_type": "code",
   "id": "initial_id",
   "metadata": {
    "collapsed": true,
    "ExecuteTime": {
     "end_time": "2025-09-03T17:36:45.300273Z",
     "start_time": "2025-09-03T17:36:45.295256Z"
    }
   },
   "source": [
    "year = 2019\n",
    "print(\"Високосный год\" if year % 4 == 0 else \"Обычный год\")"
   ],
   "outputs": [
    {
     "name": "stdout",
     "output_type": "stream",
     "text": [
      "Обычный год\n"
     ]
    }
   ],
   "execution_count": 4
  },
  {
   "metadata": {
    "ExecuteTime": {
     "end_time": "2025-09-03T17:41:08.354316Z",
     "start_time": "2025-09-03T17:41:08.348461Z"
    }
   },
   "cell_type": "code",
   "source": [
    "number = 123321\n",
    "num_str = str(number)\n",
    "\n",
    "left = sum(map(int, num_str[:3]))\n",
    "right = sum(map(int, num_str[3:]))\n",
    "\n",
    "print(\"Счастливый билет\" if left == right else \"Несчастливый билет\")"
   ],
   "id": "c850f2eb67d46727",
   "outputs": [
    {
     "name": "stdout",
     "output_type": "stream",
     "text": [
      "Счастливый билет\n"
     ]
    }
   ],
   "execution_count": 7
  }
 ],
 "metadata": {
  "kernelspec": {
   "display_name": "Python 3",
   "language": "python",
   "name": "python3"
  },
  "language_info": {
   "codemirror_mode": {
    "name": "ipython",
    "version": 2
   },
   "file_extension": ".py",
   "mimetype": "text/x-python",
   "name": "python",
   "nbconvert_exporter": "python",
   "pygments_lexer": "ipython2",
   "version": "2.7.6"
  }
 },
 "nbformat": 4,
 "nbformat_minor": 5
}
