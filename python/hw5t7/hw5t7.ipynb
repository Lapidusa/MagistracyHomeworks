{
 "cells": [
  {
   "cell_type": "code",
   "id": "initial_id",
   "metadata": {
    "collapsed": true,
    "ExecuteTime": {
     "end_time": "2025-11-01T12:22:41.388770Z",
     "start_time": "2025-11-01T12:22:38.371381Z"
    }
   },
   "source": [
    "import threading\n",
    "import time\n",
    "\n",
    "def print_squares():\n",
    "    for i in range(1, 11):\n",
    "        print(f\"Квадрат {i} = {i * i}\")\n",
    "        time.sleep(0.3)\n",
    "\n",
    "def print_cubes():\n",
    "    for i in range(1, 11):\n",
    "        print(f\"Куб {i} = {i * i * i}\")\n",
    "        time.sleep(0.3)\n",
    "\n",
    "t1 = threading.Thread(target=print_squares)\n",
    "t2 = threading.Thread(target=print_cubes)\n",
    "\n",
    "t1.start()\n",
    "t2.start()\n",
    "\n",
    "t1.join()\n",
    "t2.join()\n",
    "\n",
    "print(\"Вычисления завершены\")\n"
   ],
   "outputs": [
    {
     "name": "stdout",
     "output_type": "stream",
     "text": [
      "Квадрат 1 = 1\n",
      "Куб 1 = 1\n",
      "Квадрат 2 = 4\n",
      "Куб 2 = 8\n",
      "Куб 3 = 27\n",
      "Квадрат 3 = 9\n",
      "Куб 4 = 64Квадрат 4 = 16\n",
      "\n",
      "Куб 5 = 125Квадрат 5 = 25\n",
      "\n",
      "Куб 6 = 216Квадрат 6 = 36\n",
      "\n",
      "Квадрат 7 = 49Куб 7 = 343\n",
      "\n",
      "Квадрат 8 = 64Куб 8 = 512\n",
      "\n",
      "Квадрат 9 = 81Куб 9 = 729\n",
      "\n",
      "Куб 10 = 1000\n",
      "Квадрат 10 = 100\n",
      "Вычисления завершены\n"
     ]
    }
   ],
   "execution_count": 2
  },
  {
   "metadata": {
    "ExecuteTime": {
     "end_time": "2025-11-01T12:23:19.783170Z",
     "start_time": "2025-11-01T12:23:09.766628Z"
    }
   },
   "cell_type": "code",
   "source": [
    "import threading\n",
    "import time\n",
    "\n",
    "def print_numbers(thread_name):\n",
    "    for i in range(1, 11):\n",
    "        print(f\"{thread_name}: {i}\")\n",
    "        time.sleep(1)\n",
    "\n",
    "threads = []\n",
    "\n",
    "for n in range(1, 4):\n",
    "    t = threading.Thread(target=print_numbers, args=(f\"Поток-{n}\",))\n",
    "    threads.append(t)\n",
    "    t.start()\n",
    "\n",
    "for t in threads:\n",
    "    t.join()\n",
    "\n",
    "print(\"Все потоки завершили работу\")\n"
   ],
   "id": "2f15f0ef68c777ab",
   "outputs": [
    {
     "name": "stdout",
     "output_type": "stream",
     "text": [
      "Поток-1: 1\n",
      "Поток-2: 1\n",
      "Поток-3: 1\n",
      "Поток-1: 2\n",
      "Поток-2: 2\n",
      "Поток-3: 2\n",
      "Поток-1: 3\n",
      "Поток-3: 3\n",
      "Поток-2: 3\n",
      "Поток-1: 4Поток-2: 4\n",
      "\n",
      "Поток-3: 4\n",
      "Поток-2: 5\n",
      "Поток-1: 5\n",
      "Поток-3: 5\n",
      "Поток-2: 6\n",
      "Поток-1: 6\n",
      "Поток-3: 6\n",
      "Поток-2: 7\n",
      "Поток-1: 7\n",
      "Поток-3: 7\n",
      "Поток-2: 8Поток-3: 8\n",
      "Поток-1: 8\n",
      "\n",
      "Поток-2: 9Поток-3: 9\n",
      "Поток-1: 9\n",
      "\n",
      "Поток-2: 10Поток-3: 10\n",
      "Поток-1: 10\n",
      "\n",
      "Все потоки завершили работу\n"
     ]
    }
   ],
   "execution_count": 3
  }
 ],
 "metadata": {
  "kernelspec": {
   "display_name": "Python 3",
   "language": "python",
   "name": "python3"
  },
  "language_info": {
   "codemirror_mode": {
    "name": "ipython",
    "version": 2
   },
   "file_extension": ".py",
   "mimetype": "text/x-python",
   "name": "python",
   "nbconvert_exporter": "python",
   "pygments_lexer": "ipython2",
   "version": "2.7.6"
  }
 },
 "nbformat": 4,
 "nbformat_minor": 5
}
